{
 "cells": [
  {
   "cell_type": "code",
   "execution_count": 4,
   "id": "896f7b55-3648-4b02-ba26-00cbeef65309",
   "metadata": {},
   "outputs": [],
   "source": [
    "import numpy as np\n",
    "import math as mt\n",
    "import sympy as sym\n",
    "import matplotlib.pyplot as plt\n"
   ]
  },
  {
   "cell_type": "code",
   "execution_count": null,
   "id": "3e15d9bb-f2f5-4a7e-b271-6f3612a41674",
   "metadata": {},
   "outputs": [],
   "source": [
    "def get_a(tau, n):\n",
    "    return - (2 * tau * n + 3)\n",
    "\n",
    "def convection_eq_next_step(u_prev, L, N, n):\n",
    "    u_next = np.zeros(L + 1)\n",
    "    tau = 1 / N\n",
    "    h = 1 / L\n",
    "    u_dt = - 2\n",
    "    a_n = get_a(tau, n)\n",
    "\n",
    "    u_dx = (- u_dt) / a_n\n",
    "\n",
    "\n",
    "    return u_next\n",
    "\n",
    "def convection_equation_solver(a, phi, psi, psi_dt, psi_2dt, psi_3dt, L, N, h, tau):\n",
    "    "
   ]
  },
  {
   "cell_type": "code",
   "execution_count": 7,
   "id": "acd4b4db-09ae-49ee-aa89-cb39031913a7",
   "metadata": {},
   "outputs": [],
   "source": [
    "# Initial datas\n",
    "L = 1000\n",
    "N = 10 * L\n",
    "tau = 1 / N\n",
    "h = 1 / L\n",
    "\n",
    "x_grid_0 = np.linspace(0, 1, L + 1)\n",
    "t_grid_0 = np.linspace(0, 1, N + 1)\n",
    "\n",
    "x, t = sym.symbols(\"x t\")\n",
    "phi = sym.lambdify(x, sym.ln(1 + x ** 2))\n",
    "psi_fun = sym.ln(1 + (1 + 3 * t + t ** 2) ** 2)\n",
    "psi = sym.lambdify(t, psi_fun, modules=\"numpy\")\n",
    "psi_dt = sym.lambdify(t, sym.diff(psi_fun, t, 1), modules=\"numpy\")\n",
    "psi_2dt = sym.lambdify(t, sym.diff(psi_fun, t, 2), modules=\"numpy\")\n",
    "psi_3dt = sym.lambdify(t, sym.diff(psi_fun, t, 3), modules=\"numpy\")\n",
    "\n",
    "psi_set = psi(t_grid_0)\n",
    "psi_dt_set = psi_dt(t_grid_0)\n",
    "psi_2dt_set = psi_2dt(t_grid_0)\n",
    "psi_3dt_set = psi_3dt(t_grid_0)\n",
    "\n",
    "# plt.plot(t_grid_0, psi_set)\n",
    "# plt.show()\n",
    "\n",
    "u_0 = phi(x_grid_0)\n",
    "\n",
    "res = convectional_equation_solver(a, phi_set, psi_set, psi_dt_set, psi_2dt_set, psi_3dt_set, L, N, h, tau)"
   ]
  }
 ],
 "metadata": {
  "kernelspec": {
   "display_name": "Python (First_test_env)",
   "language": "python",
   "name": "first-test-env"
  },
  "language_info": {
   "codemirror_mode": {
    "name": "ipython",
    "version": 3
   },
   "file_extension": ".py",
   "mimetype": "text/x-python",
   "name": "python",
   "nbconvert_exporter": "python",
   "pygments_lexer": "ipython3",
   "version": "3.9.12"
  }
 },
 "nbformat": 4,
 "nbformat_minor": 5
}
