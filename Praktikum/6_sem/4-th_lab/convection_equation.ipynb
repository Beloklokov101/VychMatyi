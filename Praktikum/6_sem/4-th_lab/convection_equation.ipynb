{
 "cells": [
  {
   "cell_type": "code",
   "execution_count": 8,
   "id": "896f7b55-3648-4b02-ba26-00cbeef65309",
   "metadata": {},
   "outputs": [],
   "source": [
    "import numpy as np\n",
    "import math as mt\n",
    "import sympy as sym\n",
    "import matplotlib.pyplot as plt"
   ]
  },
  {
   "cell_type": "code",
   "execution_count": 10,
   "id": "3e15d9bb-f2f5-4a7e-b271-6f3612a41674",
   "metadata": {},
   "outputs": [],
   "source": [
    "def convection_equation_solver(phi_fun, psi_fun, L, N, h, tau):\n",
    "    \n",
    "    x_grid_0 = np.linspace(0, 1, L + 1)\n",
    "    t_grid_0 = np.linspace(0, 1, N + 1)\n",
    "\n",
    "    a_n = - (2 * t_grid_0 + 3)\n",
    "    a_dt = - 2\n",
    "\n",
    "    phi = sym.lambdify(x, phi_fun, modules=\"numpy\")\n",
    "    u_0 = phi(x_grid_0)\n",
    "\n",
    "    psi = sym.lambdify(t, psi_fun, modules=\"numpy\")\n",
    "    psi_dt = sym.lambdify(t, sym.diff(psi_fun, t, 1), modules=\"numpy\")\n",
    "    psi_2dt = sym.lambdify(t, sym.diff(psi_fun, t, 2), modules=\"numpy\")\n",
    "    psi_3dt = sym.lambdify(t, sym.diff(psi_fun, t, 3), modules=\"numpy\")\n",
    "\n",
    "    psi_set = psi(t_grid_0)\n",
    "    psi_dt_set = psi_dt(t_grid_0)\n",
    "    psi_2dt_set = psi_2dt(t_grid_0)\n",
    "    psi_3dt_set = psi_3dt(t_grid_0)\n",
    "\n",
    "    u_dx = - psi_dt_set / a_n\n",
    "    u_2dx = (psi_2dt_set + a_dt * u_dx) / (a_n ** 2)\n",
    "    u_3dx = - psi_3dt_set / (a_n ** 3) + 3 * a_dt * u_2dx / (a_n ** 2)\n",
    "\n",
    "    u_L = psi_set\n",
    "    u_L_1 = u_L - h * u_dx + h**2 * u_2dx / 2 - h**3 * u_3dx / 6\n",
    "    u_L_2 = u_L - 2 * h * u_dx + 2 * h**2 * u_2dx - 4 * h**3 * u_3dx / 3\n",
    "\n",
    "    u_next = u_0.copy()\n",
    "    for n in range(1, N + 1):\n",
    "        u_open = u_next.copy()\n",
    "\n",
    "        u_next = np.zeros(L + 1)\n",
    "        u_next[L] = u_L[n]\n",
    "        u_next[L - 1] = u_L_1[n]\n",
    "        u_next[L - 2] = u_L_2[n]\n",
    "\n",
    "        for l in range(L - 2):\n",
    "            u_l_3 = u_open[l + 3]\n",
    "            u_l_2 = u_open[l + 2]\n",
    "            u_l_1 = u_open[l + 1]\n",
    "            u_l = u_open[l]\n",
    "            first_sum = (2 * n * tau + 3 + tau) * (2 * u_l_3 - 9 * u_l_2 + 18 * u_l_1 - 11 * u_l) * tau / (6 * h)\n",
    "            second_sum = (2 * n * tau + 3) * (2 * n * tau + 3 + 2 * tau) * (- u_l_3 + 4 * u_l_2 - 5 * u_l_1 + 2 * u_l) * tau**2 / (2 * h**2)\n",
    "            third_sum = (2 * n * tau + 3)**3 * (u_l_3 - 3 * u_l_2 + 3 * u_l_1 - u_l) * tau**3 / (6 * h**3)\n",
    "            u_next[l] = u_l + first_sum + second_sum + third_sum\n",
    "    \n",
    "    return u_next\n"
   ]
  },
  {
   "cell_type": "code",
   "execution_count": 11,
   "id": "acd4b4db-09ae-49ee-aa89-cb39031913a7",
   "metadata": {},
   "outputs": [
    {
     "ename": "AttributeError",
     "evalue": "'Line2D' object has no property 'title'",
     "output_type": "error",
     "traceback": [
      "\u001b[1;31m---------------------------------------------------------------------------\u001b[0m",
      "\u001b[1;31mAttributeError\u001b[0m                            Traceback (most recent call last)",
      "\u001b[1;32mc:\\My_Progs\\VychMatyi\\Praktikum\\6_sem\\4-d_lab\\convection_equation.ipynb Cell 3'\u001b[0m in \u001b[0;36m<cell line: 19>\u001b[1;34m()\u001b[0m\n\u001b[0;32m     <a href='vscode-notebook-cell:/c%3A/My_Progs/VychMatyi/Praktikum/6_sem/4-d_lab/convection_equation.ipynb#ch0000002?line=13'>14</a>\u001b[0m \u001b[39m# plt.plot(t_grid_0, psi_set)\u001b[39;00m\n\u001b[0;32m     <a href='vscode-notebook-cell:/c%3A/My_Progs/VychMatyi/Praktikum/6_sem/4-d_lab/convection_equation.ipynb#ch0000002?line=14'>15</a>\u001b[0m \u001b[39m# plt.show()\u001b[39;00m\n\u001b[0;32m     <a href='vscode-notebook-cell:/c%3A/My_Progs/VychMatyi/Praktikum/6_sem/4-d_lab/convection_equation.ipynb#ch0000002?line=16'>17</a>\u001b[0m u_last_t1 \u001b[39m=\u001b[39m convection_equation_solver(phi_fun, psi_fun, L, N, h, tau)\n\u001b[1;32m---> <a href='vscode-notebook-cell:/c%3A/My_Progs/VychMatyi/Praktikum/6_sem/4-d_lab/convection_equation.ipynb#ch0000002?line=18'>19</a>\u001b[0m plt\u001b[39m.\u001b[39;49mplot(x_grid_0, u_last_t1, \u001b[39m\"\u001b[39;49m\u001b[39m-r\u001b[39;49m\u001b[39m\"\u001b[39;49m, title\u001b[39m=\u001b[39;49m\u001b[39m\"\u001b[39;49m\u001b[39mexp\u001b[39;49m\u001b[39m\"\u001b[39;49m)\n\u001b[0;32m     <a href='vscode-notebook-cell:/c%3A/My_Progs/VychMatyi/Praktikum/6_sem/4-d_lab/convection_equation.ipynb#ch0000002?line=19'>20</a>\u001b[0m plt\u001b[39m.\u001b[39mplot(x_grid_0, np\u001b[39m.\u001b[39mln(\u001b[39m1\u001b[39m \u001b[39m+\u001b[39m (x_grid_0 \u001b[39m+\u001b[39m \u001b[39m4\u001b[39m) \u001b[39m*\u001b[39m\u001b[39m*\u001b[39m \u001b[39m2\u001b[39m), \u001b[39m\"\u001b[39m\u001b[39m.-b\u001b[39m\u001b[39m\"\u001b[39m, title\u001b[39m=\u001b[39m\u001b[39m\"\u001b[39m\u001b[39mtheory\u001b[39m\u001b[39m\"\u001b[39m)\n\u001b[0;32m     <a href='vscode-notebook-cell:/c%3A/My_Progs/VychMatyi/Praktikum/6_sem/4-d_lab/convection_equation.ipynb#ch0000002?line=20'>21</a>\u001b[0m plt\u001b[39m.\u001b[39mlegend()\n",
      "File \u001b[1;32mC:\\My_Progs\\anaconda3\\envs\\FIrst_test_environment\\lib\\site-packages\\matplotlib\\pyplot.py:2757\u001b[0m, in \u001b[0;36mplot\u001b[1;34m(scalex, scaley, data, *args, **kwargs)\u001b[0m\n\u001b[0;32m   <a href='file:///c%3A/My_Progs/anaconda3/envs/FIrst_test_environment/lib/site-packages/matplotlib/pyplot.py?line=2754'>2755</a>\u001b[0m \u001b[39m@_copy_docstring_and_deprecators\u001b[39m(Axes\u001b[39m.\u001b[39mplot)\n\u001b[0;32m   <a href='file:///c%3A/My_Progs/anaconda3/envs/FIrst_test_environment/lib/site-packages/matplotlib/pyplot.py?line=2755'>2756</a>\u001b[0m \u001b[39mdef\u001b[39;00m \u001b[39mplot\u001b[39m(\u001b[39m*\u001b[39margs, scalex\u001b[39m=\u001b[39m\u001b[39mTrue\u001b[39;00m, scaley\u001b[39m=\u001b[39m\u001b[39mTrue\u001b[39;00m, data\u001b[39m=\u001b[39m\u001b[39mNone\u001b[39;00m, \u001b[39m*\u001b[39m\u001b[39m*\u001b[39mkwargs):\n\u001b[1;32m-> <a href='file:///c%3A/My_Progs/anaconda3/envs/FIrst_test_environment/lib/site-packages/matplotlib/pyplot.py?line=2756'>2757</a>\u001b[0m     \u001b[39mreturn\u001b[39;00m gca()\u001b[39m.\u001b[39mplot(\n\u001b[0;32m   <a href='file:///c%3A/My_Progs/anaconda3/envs/FIrst_test_environment/lib/site-packages/matplotlib/pyplot.py?line=2757'>2758</a>\u001b[0m         \u001b[39m*\u001b[39margs, scalex\u001b[39m=\u001b[39mscalex, scaley\u001b[39m=\u001b[39mscaley,\n\u001b[0;32m   <a href='file:///c%3A/My_Progs/anaconda3/envs/FIrst_test_environment/lib/site-packages/matplotlib/pyplot.py?line=2758'>2759</a>\u001b[0m         \u001b[39m*\u001b[39m\u001b[39m*\u001b[39m({\u001b[39m\"\u001b[39m\u001b[39mdata\u001b[39m\u001b[39m\"\u001b[39m: data} \u001b[39mif\u001b[39;00m data \u001b[39mis\u001b[39;00m \u001b[39mnot\u001b[39;00m \u001b[39mNone\u001b[39;00m \u001b[39melse\u001b[39;00m {}), \u001b[39m*\u001b[39m\u001b[39m*\u001b[39mkwargs)\n",
      "File \u001b[1;32mC:\\My_Progs\\anaconda3\\envs\\FIrst_test_environment\\lib\\site-packages\\matplotlib\\axes\\_axes.py:1632\u001b[0m, in \u001b[0;36mAxes.plot\u001b[1;34m(self, scalex, scaley, data, *args, **kwargs)\u001b[0m\n\u001b[0;32m   <a href='file:///c%3A/My_Progs/anaconda3/envs/FIrst_test_environment/lib/site-packages/matplotlib/axes/_axes.py?line=1389'>1390</a>\u001b[0m \u001b[39m\"\"\"\u001b[39;00m\n\u001b[0;32m   <a href='file:///c%3A/My_Progs/anaconda3/envs/FIrst_test_environment/lib/site-packages/matplotlib/axes/_axes.py?line=1390'>1391</a>\u001b[0m \u001b[39mPlot y versus x as lines and/or markers.\u001b[39;00m\n\u001b[0;32m   <a href='file:///c%3A/My_Progs/anaconda3/envs/FIrst_test_environment/lib/site-packages/matplotlib/axes/_axes.py?line=1391'>1392</a>\u001b[0m \n\u001b[1;32m   (...)\u001b[0m\n\u001b[0;32m   <a href='file:///c%3A/My_Progs/anaconda3/envs/FIrst_test_environment/lib/site-packages/matplotlib/axes/_axes.py?line=1628'>1629</a>\u001b[0m \u001b[39m(``'green'``) or hex strings (``'#008000'``).\u001b[39;00m\n\u001b[0;32m   <a href='file:///c%3A/My_Progs/anaconda3/envs/FIrst_test_environment/lib/site-packages/matplotlib/axes/_axes.py?line=1629'>1630</a>\u001b[0m \u001b[39m\"\"\"\u001b[39;00m\n\u001b[0;32m   <a href='file:///c%3A/My_Progs/anaconda3/envs/FIrst_test_environment/lib/site-packages/matplotlib/axes/_axes.py?line=1630'>1631</a>\u001b[0m kwargs \u001b[39m=\u001b[39m cbook\u001b[39m.\u001b[39mnormalize_kwargs(kwargs, mlines\u001b[39m.\u001b[39mLine2D)\n\u001b[1;32m-> <a href='file:///c%3A/My_Progs/anaconda3/envs/FIrst_test_environment/lib/site-packages/matplotlib/axes/_axes.py?line=1631'>1632</a>\u001b[0m lines \u001b[39m=\u001b[39m [\u001b[39m*\u001b[39m\u001b[39mself\u001b[39m\u001b[39m.\u001b[39m_get_lines(\u001b[39m*\u001b[39margs, data\u001b[39m=\u001b[39mdata, \u001b[39m*\u001b[39m\u001b[39m*\u001b[39mkwargs)]\n\u001b[0;32m   <a href='file:///c%3A/My_Progs/anaconda3/envs/FIrst_test_environment/lib/site-packages/matplotlib/axes/_axes.py?line=1632'>1633</a>\u001b[0m \u001b[39mfor\u001b[39;00m line \u001b[39min\u001b[39;00m lines:\n\u001b[0;32m   <a href='file:///c%3A/My_Progs/anaconda3/envs/FIrst_test_environment/lib/site-packages/matplotlib/axes/_axes.py?line=1633'>1634</a>\u001b[0m     \u001b[39mself\u001b[39m\u001b[39m.\u001b[39madd_line(line)\n",
      "File \u001b[1;32mC:\\My_Progs\\anaconda3\\envs\\FIrst_test_environment\\lib\\site-packages\\matplotlib\\axes\\_base.py:312\u001b[0m, in \u001b[0;36m_process_plot_var_args.__call__\u001b[1;34m(self, data, *args, **kwargs)\u001b[0m\n\u001b[0;32m    <a href='file:///c%3A/My_Progs/anaconda3/envs/FIrst_test_environment/lib/site-packages/matplotlib/axes/_base.py?line=309'>310</a>\u001b[0m     this \u001b[39m+\u001b[39m\u001b[39m=\u001b[39m args[\u001b[39m0\u001b[39m],\n\u001b[0;32m    <a href='file:///c%3A/My_Progs/anaconda3/envs/FIrst_test_environment/lib/site-packages/matplotlib/axes/_base.py?line=310'>311</a>\u001b[0m     args \u001b[39m=\u001b[39m args[\u001b[39m1\u001b[39m:]\n\u001b[1;32m--> <a href='file:///c%3A/My_Progs/anaconda3/envs/FIrst_test_environment/lib/site-packages/matplotlib/axes/_base.py?line=311'>312</a>\u001b[0m \u001b[39myield from\u001b[39;00m \u001b[39mself\u001b[39;49m\u001b[39m.\u001b[39;49m_plot_args(this, kwargs)\n",
      "File \u001b[1;32mC:\\My_Progs\\anaconda3\\envs\\FIrst_test_environment\\lib\\site-packages\\matplotlib\\axes\\_base.py:538\u001b[0m, in \u001b[0;36m_process_plot_var_args._plot_args\u001b[1;34m(self, tup, kwargs, return_kwargs)\u001b[0m\n\u001b[0;32m    <a href='file:///c%3A/My_Progs/anaconda3/envs/FIrst_test_environment/lib/site-packages/matplotlib/axes/_base.py?line=535'>536</a>\u001b[0m     \u001b[39mreturn\u001b[39;00m \u001b[39mlist\u001b[39m(result)\n\u001b[0;32m    <a href='file:///c%3A/My_Progs/anaconda3/envs/FIrst_test_environment/lib/site-packages/matplotlib/axes/_base.py?line=536'>537</a>\u001b[0m \u001b[39melse\u001b[39;00m:\n\u001b[1;32m--> <a href='file:///c%3A/My_Progs/anaconda3/envs/FIrst_test_environment/lib/site-packages/matplotlib/axes/_base.py?line=537'>538</a>\u001b[0m     \u001b[39mreturn\u001b[39;00m [l[\u001b[39m0\u001b[39m] \u001b[39mfor\u001b[39;00m l \u001b[39min\u001b[39;00m result]\n",
      "File \u001b[1;32mC:\\My_Progs\\anaconda3\\envs\\FIrst_test_environment\\lib\\site-packages\\matplotlib\\axes\\_base.py:538\u001b[0m, in \u001b[0;36m<listcomp>\u001b[1;34m(.0)\u001b[0m\n\u001b[0;32m    <a href='file:///c%3A/My_Progs/anaconda3/envs/FIrst_test_environment/lib/site-packages/matplotlib/axes/_base.py?line=535'>536</a>\u001b[0m     \u001b[39mreturn\u001b[39;00m \u001b[39mlist\u001b[39m(result)\n\u001b[0;32m    <a href='file:///c%3A/My_Progs/anaconda3/envs/FIrst_test_environment/lib/site-packages/matplotlib/axes/_base.py?line=536'>537</a>\u001b[0m \u001b[39melse\u001b[39;00m:\n\u001b[1;32m--> <a href='file:///c%3A/My_Progs/anaconda3/envs/FIrst_test_environment/lib/site-packages/matplotlib/axes/_base.py?line=537'>538</a>\u001b[0m     \u001b[39mreturn\u001b[39;00m [l[\u001b[39m0\u001b[39m] \u001b[39mfor\u001b[39;00m l \u001b[39min\u001b[39;00m result]\n",
      "File \u001b[1;32mC:\\My_Progs\\anaconda3\\envs\\FIrst_test_environment\\lib\\site-packages\\matplotlib\\axes\\_base.py:531\u001b[0m, in \u001b[0;36m<genexpr>\u001b[1;34m(.0)\u001b[0m\n\u001b[0;32m    <a href='file:///c%3A/My_Progs/anaconda3/envs/FIrst_test_environment/lib/site-packages/matplotlib/axes/_base.py?line=527'>528</a>\u001b[0m \u001b[39melse\u001b[39;00m:\n\u001b[0;32m    <a href='file:///c%3A/My_Progs/anaconda3/envs/FIrst_test_environment/lib/site-packages/matplotlib/axes/_base.py?line=528'>529</a>\u001b[0m     labels \u001b[39m=\u001b[39m [label] \u001b[39m*\u001b[39m n_datasets\n\u001b[1;32m--> <a href='file:///c%3A/My_Progs/anaconda3/envs/FIrst_test_environment/lib/site-packages/matplotlib/axes/_base.py?line=530'>531</a>\u001b[0m result \u001b[39m=\u001b[39m (make_artist(x[:, j \u001b[39m%\u001b[39;49m ncx], y[:, j \u001b[39m%\u001b[39;49m ncy], kw,\n\u001b[0;32m    <a href='file:///c%3A/My_Progs/anaconda3/envs/FIrst_test_environment/lib/site-packages/matplotlib/axes/_base.py?line=531'>532</a>\u001b[0m                       {\u001b[39m*\u001b[39;49m\u001b[39m*\u001b[39;49mkwargs, \u001b[39m'\u001b[39;49m\u001b[39mlabel\u001b[39;49m\u001b[39m'\u001b[39;49m: label})\n\u001b[0;32m    <a href='file:///c%3A/My_Progs/anaconda3/envs/FIrst_test_environment/lib/site-packages/matplotlib/axes/_base.py?line=532'>533</a>\u001b[0m           \u001b[39mfor\u001b[39;00m j, label \u001b[39min\u001b[39;00m \u001b[39menumerate\u001b[39m(labels))\n\u001b[0;32m    <a href='file:///c%3A/My_Progs/anaconda3/envs/FIrst_test_environment/lib/site-packages/matplotlib/axes/_base.py?line=534'>535</a>\u001b[0m \u001b[39mif\u001b[39;00m return_kwargs:\n\u001b[0;32m    <a href='file:///c%3A/My_Progs/anaconda3/envs/FIrst_test_environment/lib/site-packages/matplotlib/axes/_base.py?line=535'>536</a>\u001b[0m     \u001b[39mreturn\u001b[39;00m \u001b[39mlist\u001b[39m(result)\n",
      "File \u001b[1;32mC:\\My_Progs\\anaconda3\\envs\\FIrst_test_environment\\lib\\site-packages\\matplotlib\\axes\\_base.py:351\u001b[0m, in \u001b[0;36m_process_plot_var_args._makeline\u001b[1;34m(self, x, y, kw, kwargs)\u001b[0m\n\u001b[0;32m    <a href='file:///c%3A/My_Progs/anaconda3/envs/FIrst_test_environment/lib/site-packages/matplotlib/axes/_base.py?line=348'>349</a>\u001b[0m default_dict \u001b[39m=\u001b[39m \u001b[39mself\u001b[39m\u001b[39m.\u001b[39m_getdefaults(\u001b[39mset\u001b[39m(), kw)\n\u001b[0;32m    <a href='file:///c%3A/My_Progs/anaconda3/envs/FIrst_test_environment/lib/site-packages/matplotlib/axes/_base.py?line=349'>350</a>\u001b[0m \u001b[39mself\u001b[39m\u001b[39m.\u001b[39m_setdefaults(default_dict, kw)\n\u001b[1;32m--> <a href='file:///c%3A/My_Progs/anaconda3/envs/FIrst_test_environment/lib/site-packages/matplotlib/axes/_base.py?line=350'>351</a>\u001b[0m seg \u001b[39m=\u001b[39m mlines\u001b[39m.\u001b[39mLine2D(x, y, \u001b[39m*\u001b[39m\u001b[39m*\u001b[39mkw)\n\u001b[0;32m    <a href='file:///c%3A/My_Progs/anaconda3/envs/FIrst_test_environment/lib/site-packages/matplotlib/axes/_base.py?line=351'>352</a>\u001b[0m \u001b[39mreturn\u001b[39;00m seg, kw\n",
      "File \u001b[1;32mC:\\My_Progs\\anaconda3\\envs\\FIrst_test_environment\\lib\\site-packages\\matplotlib\\lines.py:393\u001b[0m, in \u001b[0;36mLine2D.__init__\u001b[1;34m(self, xdata, ydata, linewidth, linestyle, color, marker, markersize, markeredgewidth, markeredgecolor, markerfacecolor, markerfacecoloralt, fillstyle, antialiased, dash_capstyle, solid_capstyle, dash_joinstyle, solid_joinstyle, pickradius, drawstyle, markevery, **kwargs)\u001b[0m\n\u001b[0;32m    <a href='file:///c%3A/My_Progs/anaconda3/envs/FIrst_test_environment/lib/site-packages/matplotlib/lines.py?line=388'>389</a>\u001b[0m \u001b[39mself\u001b[39m\u001b[39m.\u001b[39mset_markeredgewidth(markeredgewidth)\n\u001b[0;32m    <a href='file:///c%3A/My_Progs/anaconda3/envs/FIrst_test_environment/lib/site-packages/matplotlib/lines.py?line=390'>391</a>\u001b[0m \u001b[39m# update kwargs before updating data to give the caller a\u001b[39;00m\n\u001b[0;32m    <a href='file:///c%3A/My_Progs/anaconda3/envs/FIrst_test_environment/lib/site-packages/matplotlib/lines.py?line=391'>392</a>\u001b[0m \u001b[39m# chance to init axes (and hence unit support)\u001b[39;00m\n\u001b[1;32m--> <a href='file:///c%3A/My_Progs/anaconda3/envs/FIrst_test_environment/lib/site-packages/matplotlib/lines.py?line=392'>393</a>\u001b[0m \u001b[39mself\u001b[39;49m\u001b[39m.\u001b[39;49mupdate(kwargs)\n\u001b[0;32m    <a href='file:///c%3A/My_Progs/anaconda3/envs/FIrst_test_environment/lib/site-packages/matplotlib/lines.py?line=393'>394</a>\u001b[0m \u001b[39mself\u001b[39m\u001b[39m.\u001b[39mpickradius \u001b[39m=\u001b[39m pickradius\n\u001b[0;32m    <a href='file:///c%3A/My_Progs/anaconda3/envs/FIrst_test_environment/lib/site-packages/matplotlib/lines.py?line=394'>395</a>\u001b[0m \u001b[39mself\u001b[39m\u001b[39m.\u001b[39mind_offset \u001b[39m=\u001b[39m \u001b[39m0\u001b[39m\n",
      "File \u001b[1;32mC:\\My_Progs\\anaconda3\\envs\\FIrst_test_environment\\lib\\site-packages\\matplotlib\\artist.py:1064\u001b[0m, in \u001b[0;36mArtist.update\u001b[1;34m(self, props)\u001b[0m\n\u001b[0;32m   <a href='file:///c%3A/My_Progs/anaconda3/envs/FIrst_test_environment/lib/site-packages/matplotlib/artist.py?line=1061'>1062</a>\u001b[0m             func \u001b[39m=\u001b[39m \u001b[39mgetattr\u001b[39m(\u001b[39mself\u001b[39m, \u001b[39mf\u001b[39m\u001b[39m\"\u001b[39m\u001b[39mset_\u001b[39m\u001b[39m{\u001b[39;00mk\u001b[39m}\u001b[39;00m\u001b[39m\"\u001b[39m, \u001b[39mNone\u001b[39;00m)\n\u001b[0;32m   <a href='file:///c%3A/My_Progs/anaconda3/envs/FIrst_test_environment/lib/site-packages/matplotlib/artist.py?line=1062'>1063</a>\u001b[0m             \u001b[39mif\u001b[39;00m \u001b[39mnot\u001b[39;00m callable(func):\n\u001b[1;32m-> <a href='file:///c%3A/My_Progs/anaconda3/envs/FIrst_test_environment/lib/site-packages/matplotlib/artist.py?line=1063'>1064</a>\u001b[0m                 \u001b[39mraise\u001b[39;00m \u001b[39mAttributeError\u001b[39;00m(\u001b[39mf\u001b[39m\u001b[39m\"\u001b[39m\u001b[39m{\u001b[39;00m\u001b[39mtype\u001b[39m(\u001b[39mself\u001b[39m)\u001b[39m.\u001b[39m\u001b[39m__name__\u001b[39m\u001b[39m!r}\u001b[39;00m\u001b[39m object \u001b[39m\u001b[39m\"\u001b[39m\n\u001b[0;32m   <a href='file:///c%3A/My_Progs/anaconda3/envs/FIrst_test_environment/lib/site-packages/matplotlib/artist.py?line=1064'>1065</a>\u001b[0m                                      \u001b[39mf\u001b[39m\u001b[39m\"\u001b[39m\u001b[39mhas no property \u001b[39m\u001b[39m{\u001b[39;00mk\u001b[39m!r}\u001b[39;00m\u001b[39m\"\u001b[39m)\n\u001b[0;32m   <a href='file:///c%3A/My_Progs/anaconda3/envs/FIrst_test_environment/lib/site-packages/matplotlib/artist.py?line=1065'>1066</a>\u001b[0m             ret\u001b[39m.\u001b[39mappend(func(v))\n\u001b[0;32m   <a href='file:///c%3A/My_Progs/anaconda3/envs/FIrst_test_environment/lib/site-packages/matplotlib/artist.py?line=1066'>1067</a>\u001b[0m \u001b[39mif\u001b[39;00m ret:\n",
      "\u001b[1;31mAttributeError\u001b[0m: 'Line2D' object has no property 'title'"
     ]
    },
    {
     "data": {
      "image/png": "[encoded data removed]",
      "text/plain": [
       "<Figure size 432x288 with 1 Axes>"
      ]
     },
     "metadata": {
      "needs_background": "light"
     },
     "output_type": "display_data"
    }
   ],
   "source": [
    "# Initial datas\n",
    "L = 1000\n",
    "N = 10 * L\n",
    "tau = 1 / N\n",
    "h = 1 / L\n",
    "\n",
    "x_grid_0 = np.linspace(0, 1, L + 1)\n",
    "t_grid_0 = np.linspace(0, 1, N + 1)\n",
    "\n",
    "x, t = sym.symbols(\"x t\")\n",
    "phi_fun = sym.ln(1 + x ** 2)\n",
    "psi_fun = sym.ln(1 + (1 + 3 * t + t ** 2) ** 2)\n",
    "\n",
    "# plt.plot(t_grid_0, psi_set)\n",
    "# plt.show()\n",
    "\n",
    "u_last_t1 = convection_equation_solver(phi_fun, psi_fun, L, N, h, tau)\n",
    "\n",
    "plt.plot(x_grid_0, u_last_t1, \"-r\", title=\"exp\")\n",
    "plt.plot(x_grid_0, np.ln(1 + (x_grid_0 + 4) ** 2), \".-b\", title=\"theory\")\n",
    "plt.legend()\n",
    "plt.show()"
   ]
  }
 ],
 "metadata": {
  "interpreter": {
   "hash": "98fcd31f8647f6818c1cf260cec101d014cf2fd33123878f34323fc54262b5cd"
  },
  "kernelspec": {
   "display_name": "Python (First_test_env)",
   "language": "python",
   "name": "python3"
  },
  "language_info": {
   "codemirror_mode": {
    "name": "ipython",
    "version": 3
   },
   "file_extension": ".py",
   "mimetype": "text/x-python",
   "name": "python",
   "nbconvert_exporter": "python",
   "pygments_lexer": "ipython3",
   "version": "3.9.12"
  }
 },
 "nbformat": 4,
 "nbformat_minor": 5
}
